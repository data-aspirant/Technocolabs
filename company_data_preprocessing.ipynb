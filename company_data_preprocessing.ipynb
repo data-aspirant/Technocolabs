{
 "cells": [
  {
   "cell_type": "markdown",
   "id": "1bfadb24",
   "metadata": {},
   "source": [
    "# Project: Building-Machine-Learning-Pipeline-on-Startup-Acquisition\n",
    "* 1st step: Data preprocessing"
   ]
  },
  {
   "cell_type": "markdown",
   "id": "7c1e4b37",
   "metadata": {},
   "source": [
    "# Objective:\n",
    "The objective of the project is to predict whether a startup which is currently Operating, IPO, Acquired, or closed.This problem will be solved through a Supervised Machine Learning approach by training a model based on the history of startups which were either acquired or closed."
   ]
  },
  {
   "cell_type": "markdown",
   "id": "01f69903",
   "metadata": {},
   "source": [
    "# Summary:\n",
    "The data contains industry trends, investment insights and individual company information. Since the data was acquired on a trial basis, it only contains information about companies. After training the model, we predict whether startups still operating, IPO, acquired, or closed."
   ]
  },
  {
   "cell_type": "code",
   "execution_count": 226,
   "id": "42544240",
   "metadata": {},
   "outputs": [],
   "source": [
    "# Import libraries\n",
    "import numpy as np\n",
    "import pandas as pd\n",
    "import matplotlib.pyplot as plt\n",
    "import seaborn as sns\n",
    "%matplotlib inline\n",
    "import warnings\n",
    "warnings.filterwarnings(\"ignore\")"
   ]
  },
  {
   "cell_type": "code",
   "execution_count": 227,
   "id": "643eadf2",
   "metadata": {},
   "outputs": [
    {
     "data": {
      "text/html": [
       "<div>\n",
       "<style scoped>\n",
       "    .dataframe tbody tr th:only-of-type {\n",
       "        vertical-align: middle;\n",
       "    }\n",
       "\n",
       "    .dataframe tbody tr th {\n",
       "        vertical-align: top;\n",
       "    }\n",
       "\n",
       "    .dataframe thead th {\n",
       "        text-align: right;\n",
       "    }\n",
       "</style>\n",
       "<table border=\"1\" class=\"dataframe\">\n",
       "  <thead>\n",
       "    <tr style=\"text-align: right;\">\n",
       "      <th></th>\n",
       "      <th>id</th>\n",
       "      <th>Unnamed: 0.1</th>\n",
       "      <th>entity_type</th>\n",
       "      <th>entity_id</th>\n",
       "      <th>parent_id</th>\n",
       "      <th>name</th>\n",
       "      <th>normalized_name</th>\n",
       "      <th>permalink</th>\n",
       "      <th>category_code</th>\n",
       "      <th>status</th>\n",
       "      <th>...</th>\n",
       "      <th>first_milestone_at</th>\n",
       "      <th>last_milestone_at</th>\n",
       "      <th>milestones</th>\n",
       "      <th>relationships</th>\n",
       "      <th>created_by</th>\n",
       "      <th>created_at</th>\n",
       "      <th>updated_at</th>\n",
       "      <th>lat</th>\n",
       "      <th>lng</th>\n",
       "      <th>ROI</th>\n",
       "    </tr>\n",
       "  </thead>\n",
       "  <tbody>\n",
       "    <tr>\n",
       "      <th>0</th>\n",
       "      <td>c:1</td>\n",
       "      <td>0</td>\n",
       "      <td>Company</td>\n",
       "      <td>1</td>\n",
       "      <td>NaN</td>\n",
       "      <td>Wetpaint</td>\n",
       "      <td>wetpaint</td>\n",
       "      <td>/company/wetpaint</td>\n",
       "      <td>web</td>\n",
       "      <td>operating</td>\n",
       "      <td>...</td>\n",
       "      <td>2010-09-05</td>\n",
       "      <td>2013-09-18</td>\n",
       "      <td>5.0</td>\n",
       "      <td>17.0</td>\n",
       "      <td>initial-importer</td>\n",
       "      <td>2007-05-25 06:51:27</td>\n",
       "      <td>2013-04-13 03:29:00</td>\n",
       "      <td>47.606209</td>\n",
       "      <td>-122.332071</td>\n",
       "      <td>15.5</td>\n",
       "    </tr>\n",
       "    <tr>\n",
       "      <th>1</th>\n",
       "      <td>c:10</td>\n",
       "      <td>1</td>\n",
       "      <td>Company</td>\n",
       "      <td>10</td>\n",
       "      <td>NaN</td>\n",
       "      <td>Flektor</td>\n",
       "      <td>flektor</td>\n",
       "      <td>/company/flektor</td>\n",
       "      <td>games_video</td>\n",
       "      <td>acquired</td>\n",
       "      <td>...</td>\n",
       "      <td>NaN</td>\n",
       "      <td>NaN</td>\n",
       "      <td>NaN</td>\n",
       "      <td>6.0</td>\n",
       "      <td>initial-importer</td>\n",
       "      <td>2007-05-31 21:11:51</td>\n",
       "      <td>2008-05-23 23:23:14</td>\n",
       "      <td>34.021122</td>\n",
       "      <td>-118.396467</td>\n",
       "      <td>NaN</td>\n",
       "    </tr>\n",
       "    <tr>\n",
       "      <th>2</th>\n",
       "      <td>c:100</td>\n",
       "      <td>2</td>\n",
       "      <td>Company</td>\n",
       "      <td>100</td>\n",
       "      <td>NaN</td>\n",
       "      <td>There</td>\n",
       "      <td>there</td>\n",
       "      <td>/company/there</td>\n",
       "      <td>games_video</td>\n",
       "      <td>acquired</td>\n",
       "      <td>...</td>\n",
       "      <td>2003-02-01</td>\n",
       "      <td>2011-09-23</td>\n",
       "      <td>4.0</td>\n",
       "      <td>12.0</td>\n",
       "      <td>initial-importer</td>\n",
       "      <td>2007-08-06 23:52:45</td>\n",
       "      <td>2013-11-04 02:09:48</td>\n",
       "      <td>37.562992</td>\n",
       "      <td>-122.325525</td>\n",
       "      <td>NaN</td>\n",
       "    </tr>\n",
       "    <tr>\n",
       "      <th>3</th>\n",
       "      <td>c:10000</td>\n",
       "      <td>3</td>\n",
       "      <td>Company</td>\n",
       "      <td>10000</td>\n",
       "      <td>NaN</td>\n",
       "      <td>MYWEBBO</td>\n",
       "      <td>mywebbo</td>\n",
       "      <td>/company/mywebbo</td>\n",
       "      <td>network_hosting</td>\n",
       "      <td>operating</td>\n",
       "      <td>...</td>\n",
       "      <td>NaN</td>\n",
       "      <td>NaN</td>\n",
       "      <td>NaN</td>\n",
       "      <td>NaN</td>\n",
       "      <td>NaN</td>\n",
       "      <td>2008-08-24 16:51:57</td>\n",
       "      <td>2008-09-06 14:19:18</td>\n",
       "      <td>NaN</td>\n",
       "      <td>NaN</td>\n",
       "      <td>NaN</td>\n",
       "    </tr>\n",
       "    <tr>\n",
       "      <th>4</th>\n",
       "      <td>c:10001</td>\n",
       "      <td>4</td>\n",
       "      <td>Company</td>\n",
       "      <td>10001</td>\n",
       "      <td>NaN</td>\n",
       "      <td>THE Movie Streamer</td>\n",
       "      <td>the movie streamer</td>\n",
       "      <td>/company/the-movie-streamer</td>\n",
       "      <td>games_video</td>\n",
       "      <td>operating</td>\n",
       "      <td>...</td>\n",
       "      <td>NaN</td>\n",
       "      <td>NaN</td>\n",
       "      <td>NaN</td>\n",
       "      <td>NaN</td>\n",
       "      <td>NaN</td>\n",
       "      <td>2008-08-24 17:10:34</td>\n",
       "      <td>2008-09-06 14:19:18</td>\n",
       "      <td>NaN</td>\n",
       "      <td>NaN</td>\n",
       "      <td>NaN</td>\n",
       "    </tr>\n",
       "  </tbody>\n",
       "</table>\n",
       "<p>5 rows × 44 columns</p>\n",
       "</div>"
      ],
      "text/plain": [
       "        id  Unnamed: 0.1 entity_type  entity_id  parent_id  \\\n",
       "0      c:1             0     Company          1        NaN   \n",
       "1     c:10             1     Company         10        NaN   \n",
       "2    c:100             2     Company        100        NaN   \n",
       "3  c:10000             3     Company      10000        NaN   \n",
       "4  c:10001             4     Company      10001        NaN   \n",
       "\n",
       "                 name     normalized_name                    permalink  \\\n",
       "0            Wetpaint            wetpaint            /company/wetpaint   \n",
       "1             Flektor             flektor             /company/flektor   \n",
       "2               There               there               /company/there   \n",
       "3             MYWEBBO             mywebbo             /company/mywebbo   \n",
       "4  THE Movie Streamer  the movie streamer  /company/the-movie-streamer   \n",
       "\n",
       "     category_code     status  ... first_milestone_at last_milestone_at  \\\n",
       "0              web  operating  ...         2010-09-05        2013-09-18   \n",
       "1      games_video   acquired  ...                NaN               NaN   \n",
       "2      games_video   acquired  ...         2003-02-01        2011-09-23   \n",
       "3  network_hosting  operating  ...                NaN               NaN   \n",
       "4      games_video  operating  ...                NaN               NaN   \n",
       "\n",
       "  milestones relationships        created_by           created_at  \\\n",
       "0        5.0          17.0  initial-importer  2007-05-25 06:51:27   \n",
       "1        NaN           6.0  initial-importer  2007-05-31 21:11:51   \n",
       "2        4.0          12.0  initial-importer  2007-08-06 23:52:45   \n",
       "3        NaN           NaN               NaN  2008-08-24 16:51:57   \n",
       "4        NaN           NaN               NaN  2008-08-24 17:10:34   \n",
       "\n",
       "            updated_at        lat         lng   ROI  \n",
       "0  2013-04-13 03:29:00  47.606209 -122.332071  15.5  \n",
       "1  2008-05-23 23:23:14  34.021122 -118.396467   NaN  \n",
       "2  2013-11-04 02:09:48  37.562992 -122.325525   NaN  \n",
       "3  2008-09-06 14:19:18        NaN         NaN   NaN  \n",
       "4  2008-09-06 14:19:18        NaN         NaN   NaN  \n",
       "\n",
       "[5 rows x 44 columns]"
      ]
     },
     "execution_count": 227,
     "metadata": {},
     "output_type": "execute_result"
    }
   ],
   "source": [
    "# Read the file and see 1st 5 rows\n",
    "df= pd.read_csv(\"companies.csv\")\n",
    "df.head()"
   ]
  },
  {
   "cell_type": "code",
   "execution_count": 228,
   "id": "68dc015f",
   "metadata": {},
   "outputs": [
    {
     "data": {
      "text/html": [
       "<div>\n",
       "<style scoped>\n",
       "    .dataframe tbody tr th:only-of-type {\n",
       "        vertical-align: middle;\n",
       "    }\n",
       "\n",
       "    .dataframe tbody tr th {\n",
       "        vertical-align: top;\n",
       "    }\n",
       "\n",
       "    .dataframe thead th {\n",
       "        text-align: right;\n",
       "    }\n",
       "</style>\n",
       "<table border=\"1\" class=\"dataframe\">\n",
       "  <thead>\n",
       "    <tr style=\"text-align: right;\">\n",
       "      <th></th>\n",
       "      <th>id</th>\n",
       "      <th>Unnamed: 0.1</th>\n",
       "      <th>entity_type</th>\n",
       "      <th>entity_id</th>\n",
       "      <th>parent_id</th>\n",
       "      <th>name</th>\n",
       "      <th>normalized_name</th>\n",
       "      <th>permalink</th>\n",
       "      <th>category_code</th>\n",
       "      <th>status</th>\n",
       "      <th>...</th>\n",
       "      <th>first_milestone_at</th>\n",
       "      <th>last_milestone_at</th>\n",
       "      <th>milestones</th>\n",
       "      <th>relationships</th>\n",
       "      <th>created_by</th>\n",
       "      <th>created_at</th>\n",
       "      <th>updated_at</th>\n",
       "      <th>lat</th>\n",
       "      <th>lng</th>\n",
       "      <th>ROI</th>\n",
       "    </tr>\n",
       "  </thead>\n",
       "  <tbody>\n",
       "    <tr>\n",
       "      <th>196548</th>\n",
       "      <td>c:99940</td>\n",
       "      <td>196548</td>\n",
       "      <td>Company</td>\n",
       "      <td>99940</td>\n",
       "      <td>NaN</td>\n",
       "      <td>Webgility</td>\n",
       "      <td>webgility</td>\n",
       "      <td>/company/webgility</td>\n",
       "      <td>ecommerce</td>\n",
       "      <td>operating</td>\n",
       "      <td>...</td>\n",
       "      <td>2013-08-12</td>\n",
       "      <td>2013-08-12</td>\n",
       "      <td>2.0</td>\n",
       "      <td>5.0</td>\n",
       "      <td>NaN</td>\n",
       "      <td>2011-09-06 23:17:56</td>\n",
       "      <td>2013-08-13 00:39:13</td>\n",
       "      <td>37.774929</td>\n",
       "      <td>-122.419415</td>\n",
       "      <td>NaN</td>\n",
       "    </tr>\n",
       "    <tr>\n",
       "      <th>196549</th>\n",
       "      <td>c:9995</td>\n",
       "      <td>196549</td>\n",
       "      <td>Company</td>\n",
       "      <td>9995</td>\n",
       "      <td>NaN</td>\n",
       "      <td>FohBoh</td>\n",
       "      <td>fohboh</td>\n",
       "      <td>/company/fohboh</td>\n",
       "      <td>public_relations</td>\n",
       "      <td>operating</td>\n",
       "      <td>...</td>\n",
       "      <td>2013-05-01</td>\n",
       "      <td>2013-05-01</td>\n",
       "      <td>1.0</td>\n",
       "      <td>14.0</td>\n",
       "      <td>NaN</td>\n",
       "      <td>2008-08-24 15:46:26</td>\n",
       "      <td>2013-06-28 20:55:30</td>\n",
       "      <td>37.338208</td>\n",
       "      <td>-121.886329</td>\n",
       "      <td>NaN</td>\n",
       "    </tr>\n",
       "    <tr>\n",
       "      <th>196550</th>\n",
       "      <td>c:9996</td>\n",
       "      <td>196550</td>\n",
       "      <td>Company</td>\n",
       "      <td>9996</td>\n",
       "      <td>NaN</td>\n",
       "      <td>CSC</td>\n",
       "      <td>csc</td>\n",
       "      <td>/company/csc</td>\n",
       "      <td>consulting</td>\n",
       "      <td>operating</td>\n",
       "      <td>...</td>\n",
       "      <td>2012-01-01</td>\n",
       "      <td>2013-10-30</td>\n",
       "      <td>3.0</td>\n",
       "      <td>44.0</td>\n",
       "      <td>NaN</td>\n",
       "      <td>2008-08-24 15:46:58</td>\n",
       "      <td>2013-06-28 20:52:01</td>\n",
       "      <td>38.882334</td>\n",
       "      <td>-77.171091</td>\n",
       "      <td>NaN</td>\n",
       "    </tr>\n",
       "    <tr>\n",
       "      <th>196551</th>\n",
       "      <td>c:9997</td>\n",
       "      <td>196551</td>\n",
       "      <td>Company</td>\n",
       "      <td>9997</td>\n",
       "      <td>NaN</td>\n",
       "      <td>Top-candidate</td>\n",
       "      <td>top candidate</td>\n",
       "      <td>/company/top-candidate</td>\n",
       "      <td>search</td>\n",
       "      <td>operating</td>\n",
       "      <td>...</td>\n",
       "      <td>NaN</td>\n",
       "      <td>NaN</td>\n",
       "      <td>NaN</td>\n",
       "      <td>1.0</td>\n",
       "      <td>NaN</td>\n",
       "      <td>2008-08-24 16:00:22</td>\n",
       "      <td>2013-06-28 20:56:44</td>\n",
       "      <td>34.052234</td>\n",
       "      <td>-118.243685</td>\n",
       "      <td>NaN</td>\n",
       "    </tr>\n",
       "    <tr>\n",
       "      <th>196552</th>\n",
       "      <td>c:9998</td>\n",
       "      <td>196552</td>\n",
       "      <td>Company</td>\n",
       "      <td>9998</td>\n",
       "      <td>NaN</td>\n",
       "      <td>Closet Couture</td>\n",
       "      <td>closet couture</td>\n",
       "      <td>/company/closet-couture</td>\n",
       "      <td>ecommerce</td>\n",
       "      <td>operating</td>\n",
       "      <td>...</td>\n",
       "      <td>2006-07-01</td>\n",
       "      <td>2008-09-10</td>\n",
       "      <td>2.0</td>\n",
       "      <td>1.0</td>\n",
       "      <td>NaN</td>\n",
       "      <td>2008-08-24 16:46:13</td>\n",
       "      <td>2013-03-23 12:01:50</td>\n",
       "      <td>34.035633</td>\n",
       "      <td>-118.515590</td>\n",
       "      <td>NaN</td>\n",
       "    </tr>\n",
       "  </tbody>\n",
       "</table>\n",
       "<p>5 rows × 44 columns</p>\n",
       "</div>"
      ],
      "text/plain": [
       "             id  Unnamed: 0.1 entity_type  entity_id  parent_id  \\\n",
       "196548  c:99940        196548     Company      99940        NaN   \n",
       "196549   c:9995        196549     Company       9995        NaN   \n",
       "196550   c:9996        196550     Company       9996        NaN   \n",
       "196551   c:9997        196551     Company       9997        NaN   \n",
       "196552   c:9998        196552     Company       9998        NaN   \n",
       "\n",
       "                  name normalized_name                permalink  \\\n",
       "196548       Webgility       webgility       /company/webgility   \n",
       "196549          FohBoh          fohboh          /company/fohboh   \n",
       "196550             CSC             csc             /company/csc   \n",
       "196551   Top-candidate   top candidate   /company/top-candidate   \n",
       "196552  Closet Couture  closet couture  /company/closet-couture   \n",
       "\n",
       "           category_code     status  ... first_milestone_at last_milestone_at  \\\n",
       "196548         ecommerce  operating  ...         2013-08-12        2013-08-12   \n",
       "196549  public_relations  operating  ...         2013-05-01        2013-05-01   \n",
       "196550        consulting  operating  ...         2012-01-01        2013-10-30   \n",
       "196551            search  operating  ...                NaN               NaN   \n",
       "196552         ecommerce  operating  ...         2006-07-01        2008-09-10   \n",
       "\n",
       "       milestones relationships created_by           created_at  \\\n",
       "196548        2.0           5.0        NaN  2011-09-06 23:17:56   \n",
       "196549        1.0          14.0        NaN  2008-08-24 15:46:26   \n",
       "196550        3.0          44.0        NaN  2008-08-24 15:46:58   \n",
       "196551        NaN           1.0        NaN  2008-08-24 16:00:22   \n",
       "196552        2.0           1.0        NaN  2008-08-24 16:46:13   \n",
       "\n",
       "                 updated_at        lat         lng ROI  \n",
       "196548  2013-08-13 00:39:13  37.774929 -122.419415 NaN  \n",
       "196549  2013-06-28 20:55:30  37.338208 -121.886329 NaN  \n",
       "196550  2013-06-28 20:52:01  38.882334  -77.171091 NaN  \n",
       "196551  2013-06-28 20:56:44  34.052234 -118.243685 NaN  \n",
       "196552  2013-03-23 12:01:50  34.035633 -118.515590 NaN  \n",
       "\n",
       "[5 rows x 44 columns]"
      ]
     },
     "execution_count": 228,
     "metadata": {},
     "output_type": "execute_result"
    }
   ],
   "source": [
    "#last 5 rows\n",
    "df.tail()"
   ]
  },
  {
   "cell_type": "code",
   "execution_count": 229,
   "id": "d6b45b95",
   "metadata": {},
   "outputs": [
    {
     "data": {
      "text/plain": [
       "(196553, 44)"
      ]
     },
     "execution_count": 229,
     "metadata": {},
     "output_type": "execute_result"
    }
   ],
   "source": [
    "# size of the dataset\n",
    "df.shape"
   ]
  },
  {
   "cell_type": "markdown",
   "id": "d5fe2cdf",
   "metadata": {},
   "source": [
    "* The dataset have 196553 rows and 44 columns"
   ]
  },
  {
   "cell_type": "code",
   "execution_count": 230,
   "id": "32a57bce",
   "metadata": {},
   "outputs": [
    {
     "name": "stdout",
     "output_type": "stream",
     "text": [
      "<class 'pandas.core.frame.DataFrame'>\n",
      "RangeIndex: 196553 entries, 0 to 196552\n",
      "Data columns (total 44 columns):\n",
      " #   Column               Non-Null Count   Dtype  \n",
      "---  ------               --------------   -----  \n",
      " 0   id                   196553 non-null  object \n",
      " 1   Unnamed: 0.1         196553 non-null  int64  \n",
      " 2   entity_type          196553 non-null  object \n",
      " 3   entity_id            196553 non-null  int64  \n",
      " 4   parent_id            0 non-null       float64\n",
      " 5   name                 196531 non-null  object \n",
      " 6   normalized_name      196527 non-null  object \n",
      " 7   permalink            196553 non-null  object \n",
      " 8   category_code        123186 non-null  object \n",
      " 9   status               196553 non-null  object \n",
      " 10  founded_at           91227 non-null   object \n",
      " 11  closed_at            2620 non-null    object \n",
      " 12  domain               126545 non-null  object \n",
      " 13  homepage_url         126545 non-null  object \n",
      " 14  twitter_username     80591 non-null   object \n",
      " 15  logo_url             110110 non-null  object \n",
      " 16  logo_width           110110 non-null  float64\n",
      " 17  logo_height          110110 non-null  float64\n",
      " 18  short_description    7131 non-null    object \n",
      " 19  description          92048 non-null   object \n",
      " 20  overview             126971 non-null  object \n",
      " 21  tag_list             81452 non-null   object \n",
      " 22  country_code         87990 non-null   object \n",
      " 23  state_code           50903 non-null   object \n",
      " 24  city                 83890 non-null   object \n",
      " 25  region               196553 non-null  object \n",
      " 26  first_investment_at  2583 non-null    object \n",
      " 27  last_investment_at   2583 non-null    object \n",
      " 28  investment_rounds    2591 non-null    float64\n",
      " 29  invested_companies   2591 non-null    float64\n",
      " 30  first_funding_at     31507 non-null   object \n",
      " 31  last_funding_at      31507 non-null   object \n",
      " 32  funding_rounds       31707 non-null   float64\n",
      " 33  funding_total_usd    27874 non-null   float64\n",
      " 34  first_milestone_at   91699 non-null   object \n",
      " 35  last_milestone_at    91699 non-null   object \n",
      " 36  milestones           91699 non-null   float64\n",
      " 37  relationships        129667 non-null  float64\n",
      " 38  created_by           155533 non-null  object \n",
      " 39  created_at           196553 non-null  object \n",
      " 40  updated_at           196553 non-null  object \n",
      " 41  lat                  83852 non-null   float64\n",
      " 42  lng                  83852 non-null   float64\n",
      " 43  ROI                  726 non-null     float64\n",
      "dtypes: float64(12), int64(2), object(30)\n",
      "memory usage: 66.0+ MB\n"
     ]
    }
   ],
   "source": [
    "# Brief discription of dataset\n",
    "df.info()"
   ]
  },
  {
   "cell_type": "code",
   "execution_count": 231,
   "id": "e967e1ee",
   "metadata": {},
   "outputs": [
    {
     "data": {
      "text/html": [
       "<div>\n",
       "<style scoped>\n",
       "    .dataframe tbody tr th:only-of-type {\n",
       "        vertical-align: middle;\n",
       "    }\n",
       "\n",
       "    .dataframe tbody tr th {\n",
       "        vertical-align: top;\n",
       "    }\n",
       "\n",
       "    .dataframe thead th {\n",
       "        text-align: right;\n",
       "    }\n",
       "</style>\n",
       "<table border=\"1\" class=\"dataframe\">\n",
       "  <thead>\n",
       "    <tr style=\"text-align: right;\">\n",
       "      <th></th>\n",
       "      <th>Unnamed: 0.1</th>\n",
       "      <th>entity_id</th>\n",
       "      <th>parent_id</th>\n",
       "      <th>logo_width</th>\n",
       "      <th>logo_height</th>\n",
       "      <th>investment_rounds</th>\n",
       "      <th>invested_companies</th>\n",
       "      <th>funding_rounds</th>\n",
       "      <th>funding_total_usd</th>\n",
       "      <th>milestones</th>\n",
       "      <th>relationships</th>\n",
       "      <th>lat</th>\n",
       "      <th>lng</th>\n",
       "      <th>ROI</th>\n",
       "    </tr>\n",
       "  </thead>\n",
       "  <tbody>\n",
       "    <tr>\n",
       "      <th>count</th>\n",
       "      <td>196553.000000</td>\n",
       "      <td>196553.000000</td>\n",
       "      <td>0.0</td>\n",
       "      <td>110110.000000</td>\n",
       "      <td>110110.000000</td>\n",
       "      <td>2591.000000</td>\n",
       "      <td>2591.000000</td>\n",
       "      <td>31707.000000</td>\n",
       "      <td>2.787400e+04</td>\n",
       "      <td>91699.000000</td>\n",
       "      <td>129667.000000</td>\n",
       "      <td>83852.000000</td>\n",
       "      <td>83852.000000</td>\n",
       "      <td>726.000000</td>\n",
       "    </tr>\n",
       "    <tr>\n",
       "      <th>mean</th>\n",
       "      <td>98276.000000</td>\n",
       "      <td>153006.227333</td>\n",
       "      <td>NaN</td>\n",
       "      <td>459.132685</td>\n",
       "      <td>222.728917</td>\n",
       "      <td>2.372057</td>\n",
       "      <td>2.204940</td>\n",
       "      <td>1.659760</td>\n",
       "      <td>1.481652e+07</td>\n",
       "      <td>1.199402</td>\n",
       "      <td>2.852067</td>\n",
       "      <td>37.564512</td>\n",
       "      <td>-52.123066</td>\n",
       "      <td>45.745037</td>\n",
       "    </tr>\n",
       "    <tr>\n",
       "      <th>std</th>\n",
       "      <td>56740.108067</td>\n",
       "      <td>90209.250941</td>\n",
       "      <td>NaN</td>\n",
       "      <td>594.982577</td>\n",
       "      <td>333.090722</td>\n",
       "      <td>12.173510</td>\n",
       "      <td>11.436955</td>\n",
       "      <td>1.201666</td>\n",
       "      <td>6.775937e+07</td>\n",
       "      <td>0.540099</td>\n",
       "      <td>9.100309</td>\n",
       "      <td>15.477102</td>\n",
       "      <td>70.049067</td>\n",
       "      <td>572.035638</td>\n",
       "    </tr>\n",
       "    <tr>\n",
       "      <th>min</th>\n",
       "      <td>0.000000</td>\n",
       "      <td>1.000000</td>\n",
       "      <td>NaN</td>\n",
       "      <td>1.000000</td>\n",
       "      <td>1.000000</td>\n",
       "      <td>1.000000</td>\n",
       "      <td>1.000000</td>\n",
       "      <td>1.000000</td>\n",
       "      <td>2.910000e+02</td>\n",
       "      <td>1.000000</td>\n",
       "      <td>1.000000</td>\n",
       "      <td>-50.942326</td>\n",
       "      <td>-159.497746</td>\n",
       "      <td>0.011111</td>\n",
       "    </tr>\n",
       "    <tr>\n",
       "      <th>25%</th>\n",
       "      <td>49138.000000</td>\n",
       "      <td>59850.000000</td>\n",
       "      <td>NaN</td>\n",
       "      <td>192.000000</td>\n",
       "      <td>70.000000</td>\n",
       "      <td>1.000000</td>\n",
       "      <td>1.000000</td>\n",
       "      <td>1.000000</td>\n",
       "      <td>5.000000e+05</td>\n",
       "      <td>1.000000</td>\n",
       "      <td>1.000000</td>\n",
       "      <td>34.052234</td>\n",
       "      <td>-111.940005</td>\n",
       "      <td>2.648879</td>\n",
       "    </tr>\n",
       "    <tr>\n",
       "      <th>50%</th>\n",
       "      <td>98276.000000</td>\n",
       "      <td>174539.000000</td>\n",
       "      <td>NaN</td>\n",
       "      <td>267.000000</td>\n",
       "      <td>105.000000</td>\n",
       "      <td>1.000000</td>\n",
       "      <td>1.000000</td>\n",
       "      <td>1.000000</td>\n",
       "      <td>2.564500e+06</td>\n",
       "      <td>1.000000</td>\n",
       "      <td>1.000000</td>\n",
       "      <td>39.768403</td>\n",
       "      <td>-77.036871</td>\n",
       "      <td>6.500497</td>\n",
       "    </tr>\n",
       "    <tr>\n",
       "      <th>75%</th>\n",
       "      <td>147414.000000</td>\n",
       "      <td>232655.000000</td>\n",
       "      <td>NaN</td>\n",
       "      <td>484.000000</td>\n",
       "      <td>232.000000</td>\n",
       "      <td>1.000000</td>\n",
       "      <td>1.000000</td>\n",
       "      <td>2.000000</td>\n",
       "      <td>1.100000e+07</td>\n",
       "      <td>1.000000</td>\n",
       "      <td>3.000000</td>\n",
       "      <td>45.421530</td>\n",
       "      <td>-0.127758</td>\n",
       "      <td>13.549900</td>\n",
       "    </tr>\n",
       "    <tr>\n",
       "      <th>max</th>\n",
       "      <td>196552.000000</td>\n",
       "      <td>286215.000000</td>\n",
       "      <td>NaN</td>\n",
       "      <td>18200.000000</td>\n",
       "      <td>9600.000000</td>\n",
       "      <td>478.000000</td>\n",
       "      <td>459.000000</td>\n",
       "      <td>15.000000</td>\n",
       "      <td>5.700000e+09</td>\n",
       "      <td>9.000000</td>\n",
       "      <td>1189.000000</td>\n",
       "      <td>77.553604</td>\n",
       "      <td>176.212549</td>\n",
       "      <td>13333.333333</td>\n",
       "    </tr>\n",
       "  </tbody>\n",
       "</table>\n",
       "</div>"
      ],
      "text/plain": [
       "        Unnamed: 0.1      entity_id  parent_id     logo_width    logo_height  \\\n",
       "count  196553.000000  196553.000000        0.0  110110.000000  110110.000000   \n",
       "mean    98276.000000  153006.227333        NaN     459.132685     222.728917   \n",
       "std     56740.108067   90209.250941        NaN     594.982577     333.090722   \n",
       "min         0.000000       1.000000        NaN       1.000000       1.000000   \n",
       "25%     49138.000000   59850.000000        NaN     192.000000      70.000000   \n",
       "50%     98276.000000  174539.000000        NaN     267.000000     105.000000   \n",
       "75%    147414.000000  232655.000000        NaN     484.000000     232.000000   \n",
       "max    196552.000000  286215.000000        NaN   18200.000000    9600.000000   \n",
       "\n",
       "       investment_rounds  invested_companies  funding_rounds  \\\n",
       "count        2591.000000         2591.000000    31707.000000   \n",
       "mean            2.372057            2.204940        1.659760   \n",
       "std            12.173510           11.436955        1.201666   \n",
       "min             1.000000            1.000000        1.000000   \n",
       "25%             1.000000            1.000000        1.000000   \n",
       "50%             1.000000            1.000000        1.000000   \n",
       "75%             1.000000            1.000000        2.000000   \n",
       "max           478.000000          459.000000       15.000000   \n",
       "\n",
       "       funding_total_usd    milestones  relationships           lat  \\\n",
       "count       2.787400e+04  91699.000000  129667.000000  83852.000000   \n",
       "mean        1.481652e+07      1.199402       2.852067     37.564512   \n",
       "std         6.775937e+07      0.540099       9.100309     15.477102   \n",
       "min         2.910000e+02      1.000000       1.000000    -50.942326   \n",
       "25%         5.000000e+05      1.000000       1.000000     34.052234   \n",
       "50%         2.564500e+06      1.000000       1.000000     39.768403   \n",
       "75%         1.100000e+07      1.000000       3.000000     45.421530   \n",
       "max         5.700000e+09      9.000000    1189.000000     77.553604   \n",
       "\n",
       "                lng           ROI  \n",
       "count  83852.000000    726.000000  \n",
       "mean     -52.123066     45.745037  \n",
       "std       70.049067    572.035638  \n",
       "min     -159.497746      0.011111  \n",
       "25%     -111.940005      2.648879  \n",
       "50%      -77.036871      6.500497  \n",
       "75%       -0.127758     13.549900  \n",
       "max      176.212549  13333.333333  "
      ]
     },
     "execution_count": 231,
     "metadata": {},
     "output_type": "execute_result"
    }
   ],
   "source": [
    "# Statistical data of numeric columns\n",
    "df.describe()"
   ]
  },
  {
   "cell_type": "code",
   "execution_count": 232,
   "id": "4f97239a",
   "metadata": {
    "scrolled": true
   },
   "outputs": [
    {
     "data": {
      "text/plain": [
       "id                          0\n",
       "Unnamed: 0.1                0\n",
       "entity_type                 0\n",
       "entity_id                   0\n",
       "parent_id              196553\n",
       "name                       22\n",
       "normalized_name            26\n",
       "permalink                   0\n",
       "category_code           73367\n",
       "status                      0\n",
       "founded_at             105326\n",
       "closed_at              193933\n",
       "domain                  70008\n",
       "homepage_url            70008\n",
       "twitter_username       115962\n",
       "logo_url                86443\n",
       "logo_width              86443\n",
       "logo_height             86443\n",
       "short_description      189422\n",
       "description            104505\n",
       "overview                69582\n",
       "tag_list               115101\n",
       "country_code           108563\n",
       "state_code             145650\n",
       "city                   112663\n",
       "region                      0\n",
       "first_investment_at    193970\n",
       "last_investment_at     193970\n",
       "investment_rounds      193962\n",
       "invested_companies     193962\n",
       "first_funding_at       165046\n",
       "last_funding_at        165046\n",
       "funding_rounds         164846\n",
       "funding_total_usd      168679\n",
       "first_milestone_at     104854\n",
       "last_milestone_at      104854\n",
       "milestones             104854\n",
       "relationships           66886\n",
       "created_by              41020\n",
       "created_at                  0\n",
       "updated_at                  0\n",
       "lat                    112701\n",
       "lng                    112701\n",
       "ROI                    195827\n",
       "dtype: int64"
      ]
     },
     "execution_count": 232,
     "metadata": {},
     "output_type": "execute_result"
    }
   ],
   "source": [
    "# count of null va;ues columnwise\n",
    "df.isnull().sum()"
   ]
  },
  {
   "cell_type": "code",
   "execution_count": 233,
   "id": "ca2f54e9",
   "metadata": {},
   "outputs": [
    {
     "name": "stdout",
     "output_type": "stream",
     "text": [
      "               Variable  Percentage\n",
      "0                    id    0.000000\n",
      "1          Unnamed: 0.1    0.000000\n",
      "2           entity_type    0.000000\n",
      "3             entity_id    0.000000\n",
      "4             parent_id  100.000000\n",
      "5                  name    0.011193\n",
      "6       normalized_name    0.013228\n",
      "7             permalink    0.000000\n",
      "8         category_code   37.326828\n",
      "9                status    0.000000\n",
      "10           founded_at   53.586564\n",
      "11            closed_at   98.667026\n",
      "12               domain   35.617874\n",
      "13         homepage_url   35.617874\n",
      "14     twitter_username   58.997828\n",
      "15             logo_url   43.979486\n",
      "16           logo_width   43.979486\n",
      "17          logo_height   43.979486\n",
      "18    short_description   96.371971\n",
      "19          description   53.168865\n",
      "20             overview   35.401139\n",
      "21             tag_list   58.559778\n",
      "22         country_code   55.233448\n",
      "23           state_code   74.102151\n",
      "24                 city   57.319400\n",
      "25               region    0.000000\n",
      "26  first_investment_at   98.685851\n",
      "27   last_investment_at   98.685851\n",
      "28    investment_rounds   98.681780\n",
      "29   invested_companies   98.681780\n",
      "30     first_funding_at   83.970227\n",
      "31      last_funding_at   83.970227\n",
      "32       funding_rounds   83.868473\n",
      "33    funding_total_usd   85.818583\n",
      "34   first_milestone_at   53.346426\n",
      "35    last_milestone_at   53.346426\n",
      "36           milestones   53.346426\n",
      "37        relationships   34.029498\n",
      "38           created_by   20.869689\n",
      "39           created_at    0.000000\n",
      "40           updated_at    0.000000\n",
      "41                  lat   57.338733\n",
      "42                  lng   57.338733\n",
      "43                  ROI   99.630634\n"
     ]
    }
   ],
   "source": [
    "# null values percentage\n",
    "percentage = []\n",
    "for i in df:\n",
    "    per= (df[i].isnull().sum()/df.shape[0]) * 100\n",
    "    percentage.append({\"Variable\":i,\"Percentage\":per})\n",
    "\n",
    "per_null = pd.DataFrame(percentage)\n",
    "print(per_null)"
   ]
  },
  {
   "cell_type": "markdown",
   "id": "23cc601c",
   "metadata": {},
   "source": [
    "* Add threshold to handling null values\n",
    "* if 0-20% missing values then we drop that\n",
    "* if 20-60% missing values then we handle this using mean, median and mode\n",
    "* if more than 60% missing values then drop that column"
   ]
  },
  {
   "cell_type": "code",
   "execution_count": 234,
   "id": "c126087f",
   "metadata": {},
   "outputs": [
    {
     "name": "stdout",
     "output_type": "stream",
     "text": [
      "Percentage < 20:\n",
      "           Variable  Percentage\n",
      "0                id    0.000000\n",
      "1      Unnamed: 0.1    0.000000\n",
      "2       entity_type    0.000000\n",
      "3         entity_id    0.000000\n",
      "5              name    0.011193\n",
      "6   normalized_name    0.013228\n",
      "7         permalink    0.000000\n",
      "9            status    0.000000\n",
      "25           region    0.000000\n",
      "39       created_at    0.000000\n",
      "40       updated_at    0.000000\n",
      "-----------------------------------\n",
      "20 <= Percentage < 60:\n",
      "              Variable  Percentage\n",
      "8        category_code   37.326828\n",
      "10          founded_at   53.586564\n",
      "12              domain   35.617874\n",
      "13        homepage_url   35.617874\n",
      "14    twitter_username   58.997828\n",
      "15            logo_url   43.979486\n",
      "16          logo_width   43.979486\n",
      "17         logo_height   43.979486\n",
      "19         description   53.168865\n",
      "20            overview   35.401139\n",
      "21            tag_list   58.559778\n",
      "22        country_code   55.233448\n",
      "24                city   57.319400\n",
      "34  first_milestone_at   53.346426\n",
      "35   last_milestone_at   53.346426\n",
      "36          milestones   53.346426\n",
      "37       relationships   34.029498\n",
      "38          created_by   20.869689\n",
      "41                 lat   57.338733\n",
      "42                 lng   57.338733\n",
      "-----------------------------------\n",
      "Percentage >= 60:\n",
      "               Variable  Percentage\n",
      "4             parent_id  100.000000\n",
      "11            closed_at   98.667026\n",
      "18    short_description   96.371971\n",
      "23           state_code   74.102151\n",
      "26  first_investment_at   98.685851\n",
      "27   last_investment_at   98.685851\n",
      "28    investment_rounds   98.681780\n",
      "29   invested_companies   98.681780\n",
      "30     first_funding_at   83.970227\n",
      "31      last_funding_at   83.970227\n",
      "32       funding_rounds   83.868473\n",
      "33    funding_total_usd   85.818583\n",
      "43                  ROI   99.630634\n"
     ]
    }
   ],
   "source": [
    "# Condition 1: percentage < 20\n",
    "condition_1 = per_null[\"Percentage\"] < 20\n",
    "filtered_rows_1 = per_null[condition_1]\n",
    "print(\"Percentage < 20:\")\n",
    "print(filtered_rows_1)\n",
    "print(\"-\"*35)\n",
    "\n",
    "# Condition 2: 20 <= Percentage < 60\n",
    "condition_2 = (per_null[\"Percentage\"] >= 20) & (per_null[\"Percentage\"] < 60)\n",
    "filtered_rows_2 = per_null[condition_2]\n",
    "print(\"20 <= Percentage < 60:\")\n",
    "print(filtered_rows_2)\n",
    "print(\"-\"*35)\n",
    "\n",
    "# Condition 3: Percentage >= 60\n",
    "condition_3 = per_null[\"Percentage\"] >= 60\n",
    "filtered_rows_3 = per_null[condition_3]\n",
    "print(\"Percentage >= 60:\")\n",
    "print(filtered_rows_3)"
   ]
  },
  {
   "cell_type": "markdown",
   "id": "97f7a5e0",
   "metadata": {},
   "source": [
    "* Firstly we drop columns having more than 60% null values as well as columns which are unnecessary for analysis. Perhaps columns like 'closed_at',\n",
    "'invested_companies','funding_rounds','funding_total_usd' are important for analysis, we will kept it eventhough it has so many null values."
   ]
  },
  {
   "cell_type": "code",
   "execution_count": 235,
   "id": "3360e13b",
   "metadata": {},
   "outputs": [],
   "source": [
    "# drop columns\n",
    "df.drop([\"id\",\"Unnamed: 0.1\",\"entity_type\",\"entity_id\",\"normalized_name\",\"parent_id\",\"domain\",\"homepage_url\",\"twitter_username\",\"logo_url\",\"logo_width\",\"logo_height\",\n",
    "         \"description\",\"overview\",\"tag_list\",\"city\",\"region\",\"first_milestone_at\",\"last_milestone_at\",\"created_by\",\"lat\",\"lng\",\n",
    "         \"short_description\",\"state_code\",\"first_investment_at\",\"last_investment_at\",\"investment_rounds\",\n",
    "         \"first_funding_at\",\"last_funding_at\",\"ROI\"], inplace=True, axis=1)"
   ]
  },
  {
   "cell_type": "code",
   "execution_count": 236,
   "id": "85004095",
   "metadata": {},
   "outputs": [
    {
     "data": {
      "text/plain": [
       "name                      22\n",
       "permalink                  0\n",
       "category_code          73367\n",
       "status                     0\n",
       "founded_at            105326\n",
       "closed_at             193933\n",
       "country_code          108563\n",
       "invested_companies    193962\n",
       "funding_rounds        164846\n",
       "funding_total_usd     168679\n",
       "milestones            104854\n",
       "relationships          66886\n",
       "created_at                 0\n",
       "updated_at                 0\n",
       "dtype: int64"
      ]
     },
     "execution_count": 236,
     "metadata": {},
     "output_type": "execute_result"
    }
   ],
   "source": [
    "df.isnull().sum()"
   ]
  },
  {
   "cell_type": "markdown",
   "id": "55b768a8",
   "metadata": {},
   "source": [
    "# Handeling null values"
   ]
  },
  {
   "cell_type": "markdown",
   "id": "877ea49c",
   "metadata": {},
   "source": [
    "1.name \n",
    "* Although 'name' column has 22 null values we can drop that values also, but here we handle that using 'permalink' column."
   ]
  },
  {
   "cell_type": "code",
   "execution_count": 237,
   "id": "bd202237",
   "metadata": {},
   "outputs": [
    {
     "name": "stdout",
     "output_type": "stream",
     "text": [
      "9079                           ndice-virtual\n",
      "12033                            cho-capital\n",
      "20890                          s-dating-game\n",
      "29978                  stjysk-innovation-a-s\n",
      "59623                     lite-diving-agency\n",
      "65122                              ejn-d-o-o\n",
      "67052                              etolution\n",
      "68942                                   oqho\n",
      "73118                       lborg-industries\n",
      "78002                   olski-center-velenje\n",
      "102076                       dition-lingerie\n",
      "112033    ilek-havuz-sauna-san-ve-tic-ltd-ti\n",
      "114788                            izim-masas\n",
      "117156                           resundswebb\n",
      "124907    nano-technologies-of-conductorsllc\n",
      "129064                              nas-pies\n",
      "129094                                    ga\n",
      "134424                           berresearch\n",
      "144917                               torrent\n",
      "160132                               bermind\n",
      "161352                            gps-optics\n",
      "175508                                nh-sng\n",
      "Name: name, dtype: object\n"
     ]
    }
   ],
   "source": [
    "indices_of_null=np.where(pd.isnull(df[\"name\"]))\n",
    "for i in indices_of_null:\n",
    "    company_name=df[\"permalink\"].str.split('/').str[-1].iloc[i]\n",
    "    #print(company_name)\n",
    "    df[\"name\"].fillna(company_name[i],inplace=True)\n",
    "    print(df[\"name\"][i])"
   ]
  },
  {
   "cell_type": "code",
   "execution_count": 238,
   "id": "ea81c65d",
   "metadata": {},
   "outputs": [],
   "source": [
    "# Now we can drop 'permalink' column as we kept it for handeling missing values of 'name' column\n",
    "df.drop(\"permalink\", inplace=True, axis=1)"
   ]
  },
  {
   "cell_type": "markdown",
   "id": "249524fe",
   "metadata": {},
   "source": [
    "2. category_code\n",
    "* This column lies in our 2nd criterion of null values, so we try to fill missing values "
   ]
  },
  {
   "cell_type": "code",
   "execution_count": 240,
   "id": "76ae7ae4",
   "metadata": {},
   "outputs": [],
   "source": [
    "# we replace null values of category_code with mode of column\n",
    "df[\"category_code\"].fillna(df[\"category_code\"].mode()[0], inplace=True)"
   ]
  },
  {
   "cell_type": "markdown",
   "id": "12afb877",
   "metadata": {},
   "source": [
    "3. founded_at\n",
    "* First we convert it into datetime and then handle the missing values."
   ]
  },
  {
   "cell_type": "code",
   "execution_count": 241,
   "id": "5831949a",
   "metadata": {},
   "outputs": [
    {
     "data": {
      "text/plain": [
       "2011.0    116542\n",
       "2012.0     10584\n",
       "2010.0     10183\n",
       "2009.0      8948\n",
       "2008.0      7350\n",
       "           ...  \n",
       "1901.0         5\n",
       "1911.0         5\n",
       "1904.0         4\n",
       "1913.0         3\n",
       "1905.0         3\n",
       "Name: founded_at, Length: 114, dtype: int64"
      ]
     },
     "execution_count": 241,
     "metadata": {},
     "output_type": "execute_result"
    }
   ],
   "source": [
    "# convert into datetime\n",
    "df[\"founded_at\"]=pd.to_datetime(df[\"founded_at\"])\n",
    "df[\"founded_at\"]=df[\"founded_at\"].dt.year\n",
    "\n",
    "# fill missing values\n",
    "df['founded_at'] = df['founded_at'].fillna(df['founded_at'].mode()[0])\n",
    "df['founded_at'].value_counts()"
   ]
  },
  {
   "cell_type": "markdown",
   "id": "3630fb71",
   "metadata": {},
   "source": [
    "4.closed_at\n",
    "* First convert it into datetime , then handle missing values\n",
    "* Here we have too many missing values, so if handle this by mode then it may be give wrong predictions further\n",
    "* To avoid this we put some conditions like if company status is operating/ipo then we take 2030 as closed year and if status is closed/accquired then we take 2010 as closed year for company\n"
   ]
  },
  {
   "cell_type": "code",
   "execution_count": 242,
   "id": "832224d0",
   "metadata": {},
   "outputs": [
    {
     "data": {
      "text/plain": [
       "array([  nan, 2010., 2011., 2012., 2013., 2009., 2007., 2008., 2001.,\n",
       "       2006., 2014., 2003., 2004., 1963., 2002., 2005., 1991., 1998.,\n",
       "       1986., 1997., 2000.])"
      ]
     },
     "execution_count": 242,
     "metadata": {},
     "output_type": "execute_result"
    }
   ],
   "source": [
    "# convert into datetime\n",
    "df[\"closed_at\"]=pd.to_datetime(df[\"closed_at\"])\n",
    "df[\"closed_at\"]=df[\"closed_at\"].dt.year\n",
    "df[\"closed_at\"].unique()\n"
   ]
  },
  {
   "cell_type": "code",
   "execution_count": 243,
   "id": "8b4767a3",
   "metadata": {},
   "outputs": [],
   "source": [
    "# filling null values\n",
    "for i in df['status']:\n",
    "    if (i == 'operating' or 'ipo'):\n",
    "        df['closed_at'].fillna(2030,inplace = True)\n",
    "    elif (i == 'accquired' or 'closed'):\n",
    "        df['closed_at'].fillna(2010, inplace = True)"
   ]
  },
  {
   "cell_type": "markdown",
   "id": "bba1f52e",
   "metadata": {},
   "source": [
    "5. country_code\n",
    "* Eventhough missing values for this column are too many we cant drop entire column, as this column is important for analysis\n",
    "* so we only drop null values \n"
   ]
  },
  {
   "cell_type": "code",
   "execution_count": 244,
   "id": "da238f65",
   "metadata": {},
   "outputs": [],
   "source": [
    "df.dropna(subset=[\"country_code\"], inplace=True)"
   ]
  },
  {
   "cell_type": "markdown",
   "id": "0b59f9dd",
   "metadata": {},
   "source": [
    "6. invested_companies"
   ]
  },
  {
   "cell_type": "code",
   "execution_count": 245,
   "id": "bb3ad619",
   "metadata": {},
   "outputs": [],
   "source": [
    "df['invested_companies'] = df['invested_companies'].fillna(df['invested_companies'].mean())"
   ]
  },
  {
   "cell_type": "markdown",
   "id": "be29f08e",
   "metadata": {},
   "source": [
    "7. milestones"
   ]
  },
  {
   "cell_type": "code",
   "execution_count": 246,
   "id": "74e4d9c2",
   "metadata": {},
   "outputs": [],
   "source": [
    "df['milestones'] = df['milestones'].fillna(df['milestones'].mean())"
   ]
  },
  {
   "cell_type": "markdown",
   "id": "f78e4037",
   "metadata": {},
   "source": [
    "8. relationships"
   ]
  },
  {
   "cell_type": "code",
   "execution_count": 247,
   "id": "7837d279",
   "metadata": {},
   "outputs": [],
   "source": [
    "df['relationships'] = df['relationships'].fillna(df['relationships'].mean())"
   ]
  },
  {
   "cell_type": "markdown",
   "id": "d805dac7",
   "metadata": {},
   "source": [
    "9. funding_rounds"
   ]
  },
  {
   "cell_type": "code",
   "execution_count": 248,
   "id": "148ccabb",
   "metadata": {},
   "outputs": [],
   "source": [
    "df['funding_rounds'] = df['funding_rounds'].fillna(df['funding_rounds'].mean())"
   ]
  },
  {
   "cell_type": "markdown",
   "id": "5cc59415",
   "metadata": {},
   "source": [
    "10. funding_total_usd"
   ]
  },
  {
   "cell_type": "code",
   "execution_count": 249,
   "id": "91552b21",
   "metadata": {},
   "outputs": [],
   "source": [
    "df['funding_total_usd'] = df['funding_total_usd'].fillna(df['funding_total_usd'].mean())"
   ]
  },
  {
   "cell_type": "code",
   "execution_count": 250,
   "id": "64c1b97b",
   "metadata": {},
   "outputs": [
    {
     "data": {
      "text/plain": [
       "name                  0\n",
       "category_code         0\n",
       "status                0\n",
       "founded_at            0\n",
       "closed_at             0\n",
       "country_code          0\n",
       "invested_companies    0\n",
       "funding_rounds        0\n",
       "funding_total_usd     0\n",
       "milestones            0\n",
       "relationships         0\n",
       "created_at            0\n",
       "updated_at            0\n",
       "dtype: int64"
      ]
     },
     "execution_count": 250,
     "metadata": {},
     "output_type": "execute_result"
    }
   ],
   "source": [
    "df.isnull().sum()"
   ]
  },
  {
   "cell_type": "markdown",
   "id": "35f934a7",
   "metadata": {},
   "source": [
    "* Our Data is cleaned properly"
   ]
  },
  {
   "cell_type": "code",
   "execution_count": 251,
   "id": "2d3eeca3",
   "metadata": {},
   "outputs": [],
   "source": [
    "# convert created_at, updated_at columns from object to datetime and take only year\n",
    "\n",
    "df[\"created_at\"]=pd.to_datetime(df[\"created_at\"])\n",
    "df[\"created_at\"]= df[\"created_at\"].dt.year\n",
    "\n",
    "df[\"updated_at\"]=pd.to_datetime(df[\"updated_at\"])\n",
    "df[\"updated_at\"]= df[\"updated_at\"].dt.year\n"
   ]
  },
  {
   "cell_type": "markdown",
   "id": "0827ab00",
   "metadata": {},
   "source": [
    "# Handeling duplicated entries"
   ]
  },
  {
   "cell_type": "code",
   "execution_count": 252,
   "id": "ee324df5",
   "metadata": {},
   "outputs": [
    {
     "data": {
      "text/plain": [
       "4"
      ]
     },
     "execution_count": 252,
     "metadata": {},
     "output_type": "execute_result"
    }
   ],
   "source": [
    "df.duplicated().sum()"
   ]
  },
  {
   "cell_type": "code",
   "execution_count": 256,
   "id": "cefa844f",
   "metadata": {},
   "outputs": [],
   "source": [
    "# remove duplicated values\n",
    "df.drop_duplicates(inplace=True)"
   ]
  },
  {
   "cell_type": "markdown",
   "id": "abdf6a69",
   "metadata": {},
   "source": [
    "# Feature Engineering\n"
   ]
  },
  {
   "cell_type": "code",
   "execution_count": 258,
   "id": "315c6443",
   "metadata": {},
   "outputs": [
    {
     "name": "stdout",
     "output_type": "stream",
     "text": [
      "        founded_at  closed_at  age_of_company\n",
      "0           2005.0     2030.0            25.0\n",
      "1           2011.0     2030.0            19.0\n",
      "2           2011.0     2030.0            19.0\n",
      "5           2007.0     2030.0            23.0\n",
      "6           2008.0     2030.0            22.0\n",
      "...            ...        ...             ...\n",
      "196548      2007.0     2030.0            23.0\n",
      "196549      2007.0     2030.0            23.0\n",
      "196550      1959.0     2030.0            71.0\n",
      "196551      2008.0     2030.0            22.0\n",
      "196552      2007.0     2030.0            23.0\n",
      "\n",
      "[87986 rows x 3 columns]\n",
      "[ 25.  19.  23.  22.  27.  24.  21.  18.  20.  26.  47.  29.  28.  44.\n",
      "  32.   4.   0.  34.  33.  52.  31.   5.  30.   2.   7.  59.  51.   1.\n",
      "  61.  -2.   3.  43.  39.   6. 100.  50.  46.  49.  35.  48.  63.  82.\n",
      "  -4.  37.  36.  41.  17.  58.  -3. 109.  -1.   8.  14. 110.  10.  40.\n",
      "  57.  38. 127.  97.  93.  45.  11.  42.  73.  55.  76.   9.  60.  75.\n",
      "  54.  56. 124. 129. 104.  72.  71.  78.  74. 123.  77.  13. 111.  68.\n",
      " 118. 126. 128. 122.  80.  90.  69.  95.  62.  67.  99.  53. 102.  79.\n",
      "  66.  92.  84.  70.  83.  94. 115.  64.  -8.  87. 103.  98.  88.  65.\n",
      "  96. 106.  89.  85. 117.  12. 108. 113. 101.  81. 120. 114. 105. -40.\n",
      " 112.  91. -10. 107. 116.  16.  15. 125. 121.  -6.  -5.  86. 119.  -9.]\n"
     ]
    }
   ],
   "source": [
    "# age of company will give clear idea about span of company so create this column\n",
    "df[\"age_of_company\"]= df[\"closed_at\"] - df[\"founded_at\"]\n",
    "print(df[[\"founded_at\",\"closed_at\",\"age_of_company\"]])\n",
    "\n",
    "print(df[\"age_of_company\"].unique())"
   ]
  },
  {
   "cell_type": "code",
   "execution_count": 259,
   "id": "ac315e4a",
   "metadata": {},
   "outputs": [
    {
     "name": "stdout",
     "output_type": "stream",
     "text": [
      "[ 25.  19.  23.  22.  27.  24.  21.  18.  20.  26.  47.  29.  28.  44.\n",
      "  32.   4.   0.  34.  33.  52.  31.   5.  30.   2.   7.  59.  51.   1.\n",
      "  61.   3.  43.  39.   6. 100.  50.  46.  49.  35.  48.  63.  82.  37.\n",
      "  36.  41.  17.  58. 109.   8.  14. 110.  10.  40.  57.  38. 127.  97.\n",
      "  93.  45.  11.  42.  73.  55.  76.   9.  60.  75.  54.  56. 124. 129.\n",
      " 104.  72.  71.  78.  74. 123.  77.  13. 111.  68. 118. 126. 128. 122.\n",
      "  80.  90.  69.  95.  62.  67.  99.  53. 102.  79.  66.  92.  84.  70.\n",
      "  83.  94. 115.  64.  87. 103.  98.  88.  65.  96. 106.  89.  85. 117.\n",
      "  12. 108. 113. 101.  81. 120. 114. 105. 112.  91. 107. 116.  16.  15.\n",
      " 125. 121.  86. 119.]\n"
     ]
    }
   ],
   "source": [
    "# As some values are negative , so to avoid further complecation in analysis we convert negative values to 0\n",
    "df[\"age_of_company\"]=np.where(df[\"age_of_company\"]<0, 0,df[\"age_of_company\"])   \n",
    "print(df[\"age_of_company\"].unique())"
   ]
  },
  {
   "cell_type": "markdown",
   "id": "20d7b341",
   "metadata": {},
   "source": [
    "# Encoding"
   ]
  },
  {
   "cell_type": "code",
   "execution_count": 260,
   "id": "e5d45159",
   "metadata": {},
   "outputs": [
    {
     "data": {
      "text/plain": [
       "name                   object\n",
       "category_code          object\n",
       "status                 object\n",
       "founded_at            float64\n",
       "closed_at             float64\n",
       "country_code           object\n",
       "invested_companies    float64\n",
       "funding_rounds        float64\n",
       "funding_total_usd     float64\n",
       "milestones            float64\n",
       "relationships         float64\n",
       "created_at              int64\n",
       "updated_at              int64\n",
       "age_of_company        float64\n",
       "dtype: object"
      ]
     },
     "execution_count": 260,
     "metadata": {},
     "output_type": "execute_result"
    }
   ],
   "source": [
    "df.dtypes"
   ]
  },
  {
   "cell_type": "markdown",
   "id": "523a540e",
   "metadata": {},
   "source": [
    "* Convert categorical column to numeric for building machine learning model"
   ]
  },
  {
   "cell_type": "markdown",
   "id": "a0bb351d",
   "metadata": {},
   "source": [
    "1. name"
   ]
  },
  {
   "cell_type": "code",
   "execution_count": 261,
   "id": "de2128be",
   "metadata": {},
   "outputs": [
    {
     "data": {
      "text/plain": [
       "L                           4\n",
       "Pr                          3\n",
       "Dell                        2\n",
       "K                           2\n",
       "Oliver Exterminating Co.    2\n",
       "                           ..\n",
       "mindsquare                  1\n",
       "Coway USA                   1\n",
       "Powervation                 1\n",
       "Health Integrated           1\n",
       "Closet Couture              1\n",
       "Name: name, Length: 87971, dtype: int64"
      ]
     },
     "execution_count": 261,
     "metadata": {},
     "output_type": "execute_result"
    }
   ],
   "source": [
    "df[\"name\"].value_counts()"
   ]
  },
  {
   "cell_type": "markdown",
   "id": "352f936c",
   "metadata": {},
   "source": [
    "* As we can see that 'Name' of company is not in organized form, so we drop name column also, and instead of that consider 'category_code'"
   ]
  },
  {
   "cell_type": "code",
   "execution_count": 262,
   "id": "44997723",
   "metadata": {},
   "outputs": [],
   "source": [
    "df.drop(\"name\", inplace=True, axis=1)"
   ]
  },
  {
   "cell_type": "markdown",
   "id": "3ca0d05f",
   "metadata": {},
   "source": [
    "2. category_code"
   ]
  },
  {
   "cell_type": "code",
   "execution_count": 263,
   "id": "c6ee2fed",
   "metadata": {},
   "outputs": [
    {
     "data": {
      "text/plain": [
       "software            20633\n",
       "web                  9453\n",
       "other                7176\n",
       "ecommerce            5825\n",
       "mobile               4658\n",
       "advertising          4378\n",
       "biotech              4165\n",
       "games_video          3550\n",
       "consulting           3502\n",
       "enterprise           3334\n",
       "hardware             2207\n",
       "public_relations     2046\n",
       "network_hosting      1640\n",
       "cleantech            1578\n",
       "education            1517\n",
       "search               1178\n",
       "finance               958\n",
       "health                924\n",
       "analytics             883\n",
       "security              880\n",
       "medical               813\n",
       "social                798\n",
       "semiconductor         652\n",
       "legal                 599\n",
       "manufacturing         535\n",
       "travel                441\n",
       "hospitality           431\n",
       "news                  385\n",
       "fashion               381\n",
       "local                 333\n",
       "real_estate           315\n",
       "photo_video           260\n",
       "music                 259\n",
       "messaging             252\n",
       "sports                228\n",
       "transportation        193\n",
       "automotive            161\n",
       "nonprofit             157\n",
       "design                157\n",
       "nanotech               68\n",
       "pets                   47\n",
       "government             36\n",
       "Name: category_code, dtype: int64"
      ]
     },
     "execution_count": 263,
     "metadata": {},
     "output_type": "execute_result"
    }
   ],
   "source": [
    "df[\"category_code\"].value_counts()"
   ]
  },
  {
   "cell_type": "code",
   "execution_count": 264,
   "id": "d8d106e5",
   "metadata": {},
   "outputs": [],
   "source": [
    "from sklearn.preprocessing import LabelEncoder"
   ]
  },
  {
   "cell_type": "code",
   "execution_count": 265,
   "id": "7c310588",
   "metadata": {},
   "outputs": [
    {
     "data": {
      "text/plain": [
       "37    20633\n",
       "41     9453\n",
       "28     7176\n",
       "7      5825\n",
       "22     4658\n",
       "0      4378\n",
       "3      4165\n",
       "12     3550\n",
       "5      3502\n",
       "9      3334\n",
       "14     2207\n",
       "31     2046\n",
       "25     1640\n",
       "4      1578\n",
       "8      1517\n",
       "33     1178\n",
       "11      958\n",
       "15      924\n",
       "1       883\n",
       "34      880\n",
       "20      813\n",
       "36      798\n",
       "35      652\n",
       "17      599\n",
       "19      535\n",
       "40      441\n",
       "16      431\n",
       "26      385\n",
       "10      381\n",
       "18      333\n",
       "32      315\n",
       "30      260\n",
       "23      259\n",
       "21      252\n",
       "38      228\n",
       "39      193\n",
       "2       161\n",
       "27      157\n",
       "6       157\n",
       "24       68\n",
       "29       47\n",
       "13       36\n",
       "Name: category_code, dtype: int64"
      ]
     },
     "execution_count": 265,
     "metadata": {},
     "output_type": "execute_result"
    }
   ],
   "source": [
    "le= LabelEncoder()\n",
    "df[\"category_code\"]=le.fit_transform(df[\"category_code\"])\n",
    "df[\"category_code\"].value_counts()"
   ]
  },
  {
   "cell_type": "markdown",
   "id": "9321e5dd",
   "metadata": {},
   "source": [
    "3. country_code\n",
    "* Here we can see that there are 175 unique values , and it will be very messy if we encoded all of these\n",
    "* we take first 10 country which are highly counted, and rest kept in one group namely others. After that we encoded the column"
   ]
  },
  {
   "cell_type": "code",
   "execution_count": 266,
   "id": "a79c6e4b",
   "metadata": {},
   "outputs": [
    {
     "name": "stdout",
     "output_type": "stream",
     "text": [
      "['USA', 'GBR', 'IND', 'CAN', 'DEU', 'FRA', 'AUS', 'ESP', 'IRL', 'ISR']\n",
      "USA      51636\n",
      "other    13080\n",
      "GBR       7372\n",
      "IND       3924\n",
      "CAN       3726\n",
      "DEU       1920\n",
      "FRA       1652\n",
      "AUS       1455\n",
      "ESP       1100\n",
      "IRL       1079\n",
      "ISR       1042\n",
      "Name: country_code, dtype: int64\n"
     ]
    }
   ],
   "source": [
    "unique= df[\"country_code\"].unique()\n",
    "counts_country=df[\"country_code\"].value_counts()\n",
    "c= counts_country[0:10]\n",
    "dataframe_country=c.reset_index()\n",
    "first10_country=dataframe_country.iloc[:,0]\n",
    "list_first10_country=first10_country.tolist()\n",
    "print(list_first10_country)\n",
    "\n",
    "df[\"country_code\"]= np.where(df[\"country_code\"].isin(list_first10_country), df[\"country_code\"], 'other')\n",
    "print(df[\"country_code\"].value_counts())\n"
   ]
  },
  {
   "cell_type": "code",
   "execution_count": 267,
   "id": "1574b62b",
   "metadata": {},
   "outputs": [
    {
     "data": {
      "text/plain": [
       "9     51636\n",
       "10    13080\n",
       "5      7372\n",
       "6      3924\n",
       "1      3726\n",
       "2      1920\n",
       "4      1652\n",
       "0      1455\n",
       "3      1100\n",
       "7      1079\n",
       "8      1042\n",
       "Name: country_code, dtype: int64"
      ]
     },
     "execution_count": 267,
     "metadata": {},
     "output_type": "execute_result"
    }
   ],
   "source": [
    "# Encode\n",
    "df[\"country_code\"]= le.fit_transform(df[\"country_code\"])\n",
    "df[\"country_code\"].value_counts()\n",
    "\n",
    "        "
   ]
  },
  {
   "cell_type": "markdown",
   "id": "455bcb0b",
   "metadata": {},
   "source": [
    "# data Labelling\n",
    "* status"
   ]
  },
  {
   "cell_type": "code",
   "execution_count": 268,
   "id": "d7212468",
   "metadata": {},
   "outputs": [
    {
     "data": {
      "text/plain": [
       "1    79226\n",
       "0     8760\n",
       "Name: status, dtype: int64"
      ]
     },
     "execution_count": 268,
     "metadata": {},
     "output_type": "execute_result"
    }
   ],
   "source": [
    "df[\"status\"]= df[\"status\"].map({\"operating\":1,\"ipo\":1,\"acquired\":0,\"closed\":0})\n",
    "df[\"status\"].value_counts()"
   ]
  },
  {
   "cell_type": "code",
   "execution_count": 269,
   "id": "191439c0",
   "metadata": {},
   "outputs": [
    {
     "data": {
      "text/plain": [
       "category_code           int32\n",
       "status                  int64\n",
       "founded_at            float64\n",
       "closed_at             float64\n",
       "country_code            int32\n",
       "invested_companies    float64\n",
       "funding_rounds        float64\n",
       "funding_total_usd     float64\n",
       "milestones            float64\n",
       "relationships         float64\n",
       "created_at              int64\n",
       "updated_at              int64\n",
       "age_of_company        float64\n",
       "dtype: object"
      ]
     },
     "execution_count": 269,
     "metadata": {},
     "output_type": "execute_result"
    }
   ],
   "source": [
    "df.dtypes"
   ]
  },
  {
   "cell_type": "code",
   "execution_count": 270,
   "id": "1a23c1e5",
   "metadata": {},
   "outputs": [
    {
     "data": {
      "text/html": [
       "<div>\n",
       "<style scoped>\n",
       "    .dataframe tbody tr th:only-of-type {\n",
       "        vertical-align: middle;\n",
       "    }\n",
       "\n",
       "    .dataframe tbody tr th {\n",
       "        vertical-align: top;\n",
       "    }\n",
       "\n",
       "    .dataframe thead th {\n",
       "        text-align: right;\n",
       "    }\n",
       "</style>\n",
       "<table border=\"1\" class=\"dataframe\">\n",
       "  <thead>\n",
       "    <tr style=\"text-align: right;\">\n",
       "      <th></th>\n",
       "      <th>category_code</th>\n",
       "      <th>status</th>\n",
       "      <th>founded_at</th>\n",
       "      <th>closed_at</th>\n",
       "      <th>country_code</th>\n",
       "      <th>invested_companies</th>\n",
       "      <th>funding_rounds</th>\n",
       "      <th>funding_total_usd</th>\n",
       "      <th>milestones</th>\n",
       "      <th>relationships</th>\n",
       "      <th>created_at</th>\n",
       "      <th>updated_at</th>\n",
       "      <th>age_of_company</th>\n",
       "    </tr>\n",
       "  </thead>\n",
       "  <tbody>\n",
       "    <tr>\n",
       "      <th>0</th>\n",
       "      <td>41</td>\n",
       "      <td>1</td>\n",
       "      <td>2005.0</td>\n",
       "      <td>2030.0</td>\n",
       "      <td>9</td>\n",
       "      <td>3.260563</td>\n",
       "      <td>3.000000</td>\n",
       "      <td>3.975000e+07</td>\n",
       "      <td>5.000000</td>\n",
       "      <td>17.000000</td>\n",
       "      <td>2007</td>\n",
       "      <td>2013</td>\n",
       "      <td>25.0</td>\n",
       "    </tr>\n",
       "    <tr>\n",
       "      <th>1</th>\n",
       "      <td>12</td>\n",
       "      <td>0</td>\n",
       "      <td>2011.0</td>\n",
       "      <td>2030.0</td>\n",
       "      <td>9</td>\n",
       "      <td>3.260563</td>\n",
       "      <td>1.697345</td>\n",
       "      <td>1.530795e+07</td>\n",
       "      <td>1.387564</td>\n",
       "      <td>6.000000</td>\n",
       "      <td>2007</td>\n",
       "      <td>2008</td>\n",
       "      <td>19.0</td>\n",
       "    </tr>\n",
       "    <tr>\n",
       "      <th>2</th>\n",
       "      <td>12</td>\n",
       "      <td>0</td>\n",
       "      <td>2011.0</td>\n",
       "      <td>2030.0</td>\n",
       "      <td>9</td>\n",
       "      <td>3.260563</td>\n",
       "      <td>1.697345</td>\n",
       "      <td>1.530795e+07</td>\n",
       "      <td>4.000000</td>\n",
       "      <td>12.000000</td>\n",
       "      <td>2007</td>\n",
       "      <td>2013</td>\n",
       "      <td>19.0</td>\n",
       "    </tr>\n",
       "    <tr>\n",
       "      <th>5</th>\n",
       "      <td>0</td>\n",
       "      <td>1</td>\n",
       "      <td>2007.0</td>\n",
       "      <td>2030.0</td>\n",
       "      <td>10</td>\n",
       "      <td>3.260563</td>\n",
       "      <td>1.697345</td>\n",
       "      <td>1.530795e+07</td>\n",
       "      <td>1.387564</td>\n",
       "      <td>2.000000</td>\n",
       "      <td>2008</td>\n",
       "      <td>2008</td>\n",
       "      <td>23.0</td>\n",
       "    </tr>\n",
       "    <tr>\n",
       "      <th>6</th>\n",
       "      <td>4</td>\n",
       "      <td>1</td>\n",
       "      <td>2008.0</td>\n",
       "      <td>2030.0</td>\n",
       "      <td>6</td>\n",
       "      <td>3.260563</td>\n",
       "      <td>1.697345</td>\n",
       "      <td>1.530795e+07</td>\n",
       "      <td>1.387564</td>\n",
       "      <td>4.190062</td>\n",
       "      <td>2008</td>\n",
       "      <td>2010</td>\n",
       "      <td>22.0</td>\n",
       "    </tr>\n",
       "  </tbody>\n",
       "</table>\n",
       "</div>"
      ],
      "text/plain": [
       "   category_code  status  founded_at  closed_at  country_code  \\\n",
       "0             41       1      2005.0     2030.0             9   \n",
       "1             12       0      2011.0     2030.0             9   \n",
       "2             12       0      2011.0     2030.0             9   \n",
       "5              0       1      2007.0     2030.0            10   \n",
       "6              4       1      2008.0     2030.0             6   \n",
       "\n",
       "   invested_companies  funding_rounds  funding_total_usd  milestones  \\\n",
       "0            3.260563        3.000000       3.975000e+07    5.000000   \n",
       "1            3.260563        1.697345       1.530795e+07    1.387564   \n",
       "2            3.260563        1.697345       1.530795e+07    4.000000   \n",
       "5            3.260563        1.697345       1.530795e+07    1.387564   \n",
       "6            3.260563        1.697345       1.530795e+07    1.387564   \n",
       "\n",
       "   relationships  created_at  updated_at  age_of_company  \n",
       "0      17.000000        2007        2013            25.0  \n",
       "1       6.000000        2007        2008            19.0  \n",
       "2      12.000000        2007        2013            19.0  \n",
       "5       2.000000        2008        2008            23.0  \n",
       "6       4.190062        2008        2010            22.0  "
      ]
     },
     "execution_count": 270,
     "metadata": {},
     "output_type": "execute_result"
    }
   ],
   "source": [
    "df.head()"
   ]
  },
  {
   "cell_type": "markdown",
   "id": "fc6dca83",
   "metadata": {},
   "source": [
    "* Now all our data is in numeric format"
   ]
  }
 ],
 "metadata": {
  "kernelspec": {
   "display_name": "Python 3 (ipykernel)",
   "language": "python",
   "name": "python3"
  },
  "language_info": {
   "codemirror_mode": {
    "name": "ipython",
    "version": 3
   },
   "file_extension": ".py",
   "mimetype": "text/x-python",
   "name": "python",
   "nbconvert_exporter": "python",
   "pygments_lexer": "ipython3",
   "version": "3.9.12"
  }
 },
 "nbformat": 4,
 "nbformat_minor": 5
}
